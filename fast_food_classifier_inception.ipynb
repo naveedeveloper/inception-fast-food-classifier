{
 "cells": [
  {
   "cell_type": "code",
   "execution_count": 1,
   "id": "70171b7b",
   "metadata": {},
   "outputs": [],
   "source": [
    "import warnings\n",
    "warnings.filterwarnings('ignore')"
   ]
  },
  {
   "cell_type": "code",
   "execution_count": 7,
   "id": "4dda5d36",
   "metadata": {},
   "outputs": [],
   "source": [
    "import os\n",
    "from PIL import Image\n",
    "from tqdm import tqdm\n",
    "import numpy as np\n",
    "from datasets import load_dataset\n",
    "from tensorflow.keras import layers, models\n",
    "from tensorflow.keras.models import load_model\n",
    "from tensorflow.keras.applications import InceptionV3\n",
    "from tensorflow.keras.callbacks import ModelCheckpoint\n",
    "from tensorflow.keras.preprocessing import image\n",
    "from tensorflow.keras.preprocessing.image import ImageDataGenerator\n",
    "from tensorflow.keras.applications.inception_v3 import preprocess_input, decode_predictions"
   ]
  },
  {
   "cell_type": "code",
   "execution_count": 3,
   "id": "e799c908",
   "metadata": {},
   "outputs": [],
   "source": [
    "class FastFoodClassifier:\n",
    "    def __init__(self, input_shape=(224, 224, 3), num_classes=10):\n",
    "        self.input_shape = input_shape\n",
    "        self.num_classes = num_classes\n",
    "        self.model = self.build_model()\n",
    "\n",
    "    def build_model(self):\n",
    "        base_model = InceptionV3(weights='imagenet', include_top=False, input_shape=self.input_shape)\n",
    "\n",
    "        for layer in base_model.layers:\n",
    "            layer.trainable = False\n",
    "\n",
    "        model = models.Sequential()\n",
    "        model.add(base_model)\n",
    "        model.add(layers.Flatten())\n",
    "        model.add(layers.Dense(256, activation='relu'))\n",
    "        model.add(layers.Dropout(0.5))\n",
    "        model.add(layers.Dense(self.num_classes, activation='softmax'))\n",
    "\n",
    "        return model\n",
    "\n",
    "    def load_data(self, dataset_name=\"andrewsunanda/fast_food_image_classification\"):\n",
    "        dataset = load_dataset(dataset_name, split=\"train\")\n",
    "\n",
    "        data = dataset['train']\n",
    "\n",
    "        return data\n",
    "\n",
    "    def train_and_evaluate(self, train_generator, test_generator, num_epochs=10, weights_filepath='fast_food_classifier_weights.h5'):\n",
    "        checkpoint = ModelCheckpoint(weights_filepath, monitor='val_loss', save_best_only=True, save_weights_only=True, mode='min', verbose=1)\n",
    "\n",
    "        self.model.compile(optimizer='adam', loss='categorical_crossentropy', metrics=['accuracy'])\n",
    "\n",
    "        history = self.model.fit(train_generator, epochs=num_epochs, validation_data=test_generator, callbacks=[checkpoint])\n",
    "\n",
    "        test_loss, test_acc = self.model.evaluate(test_generator)\n",
    "        print(f'Test accuracy: {test_acc}')\n",
    "\n",
    "    def save_model_weights(self, filepath='fast_food_classifier_weights.h5'):\n",
    "        self.model.save_weights(filepath)\n",
    "\n",
    "    def predict_image(self, image_path):\n",
    "        img = image.load_img(image_path, target_size=self.input_shape)\n",
    "        img_array = image.img_to_array(img)\n",
    "        img_array = preprocess_input(img_array.reshape(1, *img_array.shape))\n",
    "        \n",
    "        labels = {\n",
    "            0: 'Baked Potato',\n",
    "            1: 'Burger',\n",
    "            2: 'Crispy Chicken',\n",
    "            3: 'Donut',\n",
    "            4: 'Fries',\n",
    "            5: 'Hot Dog',\n",
    "            6: 'Pizza',\n",
    "            7: 'Sandwich',\n",
    "            8: 'Taco',\n",
    "            9: 'Taquito'\n",
    "        }\n",
    "        prediction = self.model.predict(img_array)\n",
    "        prediction = labels[np.argmax(prediction)]\n",
    "        return prediction"
   ]
  },
  {
   "cell_type": "code",
   "execution_count": 4,
   "id": "ea2d0658",
   "metadata": {},
   "outputs": [],
   "source": [
    "classifier = FastFoodClassifier()\n",
    "\n",
    "train_dir = 'data/train'\n",
    "test_dir = 'data/train'\n",
    "batch_size = 32\n",
    "num_epochs = 10"
   ]
  },
  {
   "cell_type": "code",
   "execution_count": 5,
   "id": "462a3de8",
   "metadata": {},
   "outputs": [
    {
     "name": "stdout",
     "output_type": "stream",
     "text": [
      "Found 2997 images belonging to 10 classes.\n",
      "Found 2997 images belonging to 10 classes.\n",
      "Epoch 1/10\n",
      "94/94 [==============================] - ETA: 0s - loss: 6.3923 - accuracy: 0.3570\n",
      "Epoch 1: val_loss improved from inf to 1.29156, saving model to fast_food_classifier_weights.h5\n",
      "94/94 [==============================] - 439s 5s/step - loss: 6.3923 - accuracy: 0.3570 - val_loss: 1.2916 - val_accuracy: 0.5883\n",
      "Epoch 2/10\n",
      "94/94 [==============================] - ETA: 0s - loss: 1.5870 - accuracy: 0.4731\n",
      "Epoch 2: val_loss improved from 1.29156 to 1.00872, saving model to fast_food_classifier_weights.h5\n",
      "94/94 [==============================] - 531s 6s/step - loss: 1.5870 - accuracy: 0.4731 - val_loss: 1.0087 - val_accuracy: 0.7027\n",
      "Epoch 3/10\n",
      "94/94 [==============================] - ETA: 0s - loss: 1.4992 - accuracy: 0.4868\n",
      "Epoch 3: val_loss did not improve from 1.00872\n",
      "94/94 [==============================] - 624s 7s/step - loss: 1.4992 - accuracy: 0.4868 - val_loss: 1.1009 - val_accuracy: 0.6703\n",
      "Epoch 4/10\n",
      "94/94 [==============================] - ETA: 0s - loss: 1.4348 - accuracy: 0.5199\n",
      "Epoch 4: val_loss improved from 1.00872 to 0.99442, saving model to fast_food_classifier_weights.h5\n",
      "94/94 [==============================] - 562s 6s/step - loss: 1.4348 - accuracy: 0.5199 - val_loss: 0.9944 - val_accuracy: 0.6757\n",
      "Epoch 5/10\n",
      "94/94 [==============================] - ETA: 0s - loss: 1.3647 - accuracy: 0.5145\n",
      "Epoch 5: val_loss improved from 0.99442 to 0.83158, saving model to fast_food_classifier_weights.h5\n",
      "94/94 [==============================] - 377s 4s/step - loss: 1.3647 - accuracy: 0.5145 - val_loss: 0.8316 - val_accuracy: 0.7227\n",
      "Epoch 6/10\n",
      "94/94 [==============================] - ETA: 0s - loss: 1.2483 - accuracy: 0.5475\n",
      "Epoch 6: val_loss improved from 0.83158 to 0.79093, saving model to fast_food_classifier_weights.h5\n",
      "94/94 [==============================] - 464s 5s/step - loss: 1.2483 - accuracy: 0.5475 - val_loss: 0.7909 - val_accuracy: 0.7504\n",
      "Epoch 7/10\n",
      "94/94 [==============================] - ETA: 0s - loss: 1.2123 - accuracy: 0.5579\n",
      "Epoch 7: val_loss improved from 0.79093 to 0.68566, saving model to fast_food_classifier_weights.h5\n",
      "94/94 [==============================] - 493s 5s/step - loss: 1.2123 - accuracy: 0.5579 - val_loss: 0.6857 - val_accuracy: 0.7841\n",
      "Epoch 8/10\n",
      "94/94 [==============================] - ETA: 0s - loss: 1.2472 - accuracy: 0.5375\n",
      "Epoch 8: val_loss did not improve from 0.68566\n",
      "94/94 [==============================] - 386s 4s/step - loss: 1.2472 - accuracy: 0.5375 - val_loss: 0.7750 - val_accuracy: 0.7631\n",
      "Epoch 9/10\n",
      "94/94 [==============================] - ETA: 0s - loss: 1.1915 - accuracy: 0.5566\n",
      "Epoch 9: val_loss improved from 0.68566 to 0.61641, saving model to fast_food_classifier_weights.h5\n",
      "94/94 [==============================] - 440s 5s/step - loss: 1.1915 - accuracy: 0.5566 - val_loss: 0.6164 - val_accuracy: 0.8128\n",
      "Epoch 10/10\n",
      "94/94 [==============================] - ETA: 0s - loss: 1.1281 - accuracy: 0.5933\n",
      "Epoch 10: val_loss improved from 0.61641 to 0.56708, saving model to fast_food_classifier_weights.h5\n",
      "94/94 [==============================] - 532s 6s/step - loss: 1.1281 - accuracy: 0.5933 - val_loss: 0.5671 - val_accuracy: 0.8175\n",
      "94/94 [==============================] - 224s 2s/step - loss: 0.5671 - accuracy: 0.8175\n",
      "Test accuracy: 0.8174841403961182\n"
     ]
    }
   ],
   "source": [
    "train_datagen = ImageDataGenerator(rescale=1./255)\n",
    "test_datagen = ImageDataGenerator(rescale=1./255)\n",
    "\n",
    "train_generator = train_datagen.flow_from_directory(train_dir, target_size=classifier.input_shape[:2], batch_size=batch_size, class_mode='categorical')\n",
    "test_generator = test_datagen.flow_from_directory(test_dir, target_size=classifier.input_shape[:2], batch_size=batch_size, class_mode='categorical')\n",
    "\n",
    "# Train and evaluate the model\n",
    "classifier.train_and_evaluate(train_generator, test_generator, num_epochs=num_epochs)"
   ]
  },
  {
   "cell_type": "code",
   "execution_count": 8,
   "id": "f9a2bcd8",
   "metadata": {},
   "outputs": [
    {
     "name": "stdout",
     "output_type": "stream",
     "text": [
      "1/1 [==============================] - 0s 96ms/step\n"
     ]
    },
    {
     "data": {
      "text/plain": [
       "'Pizza'"
      ]
     },
     "execution_count": 8,
     "metadata": {},
     "output_type": "execute_result"
    }
   ],
   "source": [
    "classifier.predict_image('pizza.jpeg')"
   ]
  },
  {
   "cell_type": "code",
   "execution_count": 9,
   "id": "a55ce640",
   "metadata": {},
   "outputs": [
    {
     "name": "stdout",
     "output_type": "stream",
     "text": [
      "1/1 [==============================] - 0s 100ms/step\n"
     ]
    },
    {
     "data": {
      "text/plain": [
       "'Burger'"
      ]
     },
     "execution_count": 9,
     "metadata": {},
     "output_type": "execute_result"
    }
   ],
   "source": [
    "classifier.predict_image('burger.jpeg')"
   ]
  },
  {
   "cell_type": "code",
   "execution_count": 10,
   "id": "d1d9b488",
   "metadata": {},
   "outputs": [
    {
     "name": "stdout",
     "output_type": "stream",
     "text": [
      "1/1 [==============================] - 0s 112ms/step\n"
     ]
    },
    {
     "data": {
      "text/plain": [
       "'Baked Potato'"
      ]
     },
     "execution_count": 10,
     "metadata": {},
     "output_type": "execute_result"
    }
   ],
   "source": [
    "classifier.predict_image('baked-potato.jpeg')"
   ]
  },
  {
   "cell_type": "code",
   "execution_count": null,
   "id": "f1b220b9",
   "metadata": {},
   "outputs": [],
   "source": []
  }
 ],
 "metadata": {
  "kernelspec": {
   "display_name": "Python 3 (ipykernel)",
   "language": "python",
   "name": "python3"
  },
  "language_info": {
   "codemirror_mode": {
    "name": "ipython",
    "version": 3
   },
   "file_extension": ".py",
   "mimetype": "text/x-python",
   "name": "python",
   "nbconvert_exporter": "python",
   "pygments_lexer": "ipython3",
   "version": "3.11.5"
  }
 },
 "nbformat": 4,
 "nbformat_minor": 5
}
